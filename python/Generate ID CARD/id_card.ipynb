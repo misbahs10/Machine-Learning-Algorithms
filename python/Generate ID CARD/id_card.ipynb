{
  "nbformat": 4,
  "nbformat_minor": 0,
  "metadata": {
    "colab": {
      "provenance": []
    },
    "kernelspec": {
      "name": "python3",
      "display_name": "Python 3"
    },
    "language_info": {
      "name": "python"
    }
  },
  "cells": [
    {
      "cell_type": "code",
      "execution_count": null,
      "metadata": {
        "colab": {
          "base_uri": "https://localhost:8080/"
        },
        "id": "QILSl0aBTCBZ",
        "outputId": "a3416500-00f6-4710-cb42-e9eb7359dd16"
      },
      "outputs": [
        {
          "output_type": "stream",
          "name": "stdout",
          "text": [
            "ID CARD\n",
            "NAME : Misbah Sajjad\n",
            "ROLL NO : 12334\n",
            "DISTANCE LEARNING : No\n",
            "CITY : karachi\n",
            "CENTER : Bahria_Auditorium\n",
            "CAMPUS : karsaz\n",
            "DAYS/TIME : sunday - 09:00 AM to 01:00 PM\n"
          ]
        }
      ],
      "source": [
        "# ID CARD\n",
        "\n",
        "print(\"ID CARD\")\n",
        "\n",
        "name : str = \"Misbah Sajjad\"\n",
        "roll_no : int = 12334\n",
        "distance_learning : str = \"No\"\n",
        "city : str = \"karachi\"\n",
        "center : str = \"Bahria_Auditorium\"\n",
        "campus : str = \"karsaz\"\n",
        "days_time : str = \"sunday - 09:00 AM to 01:00 PM\"\n",
        "\n",
        "message : str = f\"NAME : {name}\\nROLL NO : {roll_no}\\nDISTANCE LEARNING : {distance_learning}\\nCITY : {city}\\nCENTER : {center}\\nCAMPUS : {campus}\\nDAYS/TIME : {days_time}\"\n",
        "print(message)\n",
        "\n"
      ]
    }
  ]
}